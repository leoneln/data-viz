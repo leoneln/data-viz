{
 "cells": [
  {
   "cell_type": "code",
   "execution_count": null,
   "id": "e43f875f",
   "metadata": {},
   "outputs": [],
   "source": [
    "import pandas as pd\n",
    "import plotly.express as px\n",
    "\n",
    "#tiny dataset\n",
    "df = pd.DataFrame({\n",
    "    \"year\": [2021, 2022, 2023,2024,2025],\n",
    "    \"enrollment\": [25000, 26300, 27150, 26000,29323]\n",
    "})\n",
    "fig = px.line(df, x=\"year\", y=\"enrollment\", title='University Enrollment Over Years')\n",
    "fig.update_layout(xaxis_title='Year', yaxis_title='Number of Students')\n",
    "fig.show()\n"
   ]
  }
 ],
 "metadata": {
  "kernelspec": {
   "display_name": ".venv",
   "language": "python",
   "name": "python3"
  },
  "language_info": {
   "name": "python",
   "version": "3.14.0"
  }
 },
 "nbformat": 4,
 "nbformat_minor": 5
}
