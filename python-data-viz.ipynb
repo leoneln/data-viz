{
 "cells": [
  {
   "cell_type": "markdown",
   "id": "a68b4905",
   "metadata": {},
   "source": [
    "## Python + Plotly Express Walkthrough Lab\n",
    "#### Goal: Learn how to use Python and Plotly Express library to create three types of interactive data visualizations. This lab will focus on learning how to create a bar, line, and scatter plots that tell a clear and insightful story. \n",
    "\n",
    "1. Setup and Imports - Start by ensureing the right packages are installed and imported. There is no need to isntall packages as the ones we need for this lab and the assignment were imported during the set up. "
   ]
  },
  {
   "cell_type": "code",
   "execution_count": null,
   "id": "c4610e2e",
   "metadata": {},
   "outputs": [],
   "source": [
    "# import packages\n",
    "import pandas as pd\n",
    "import plotly.express as px"
   ]
  },
  {
   "cell_type": "markdown",
   "id": "eba9d0e9",
   "metadata": {},
   "source": [
    "2. Example 1 - Bar Chart: Comparing Product Sales\n",
    "Scenario: You are data analyst tasked with creating a visual to help understand product sale trends in a business unit. You want to compare how each product performed in 2024. \n",
    "\n",
    "The first thing we will do is create a dataset manually using the pandas DataFrame constructor. The pandas dataframe is a 2-dimensional labeled data structure with columns and rows. You can think of it like a spreadsheet in excel or SQL table. It is generally the most commonly used pandas object. We will create a simple dataset with product names and their corresponding sales figures. "
   ]
  },
  {
   "cell_type": "code",
   "execution_count": null,
   "id": "f143b311",
   "metadata": {},
   "outputs": [],
   "source": [
    "salecs_data = pd.DataFrame({\n",
    "    \"Product\": [\"A\", \"B\", \"C\", \"D\", \"E\"],\n",
    "    \"Sales\": [150, 200, 300, 250, 400]\n",
    "})"
   ]
  },
  {
   "cell_type": "markdown",
   "id": "65015eaa",
   "metadata": {},
   "source": [
    "Now that the data has been created we will create a bar chart using the plotly express bar constructor. Here we will invoke pandas express bar constructor to create a bar chart. Note how the x parameter is used to specify the column for the x-axis, the y parameter is used to specify the column for the y-axis, and the title parameter is used to set the title of the chart. Those are the most basic parameters that you'd want to use. In the code below we see other optional paramenters; \n",
    "* The text parameter is used to display the sales values on top of each bar\n",
    "* The color parameter is used to color the bars based on the product names.\n",
    "Note also how the the resulting bar chart is stored in the fig variable by using the `fig = px...`\n",
    "Check out this link for detailed documentation of the plotly express bar constructor: https://plotly.github.io/plotly.py-docs/generated/plotly.express.bar.html"
   ]
  },
  {
   "cell_type": "code",
   "execution_count": null,
   "id": "e278fbfa",
   "metadata": {},
   "outputs": [],
   "source": [
    "fig = px.bar(\n",
    "        salecs_data, \n",
    "        x=\"Product\", \n",
    "        y=\"Sales\", \n",
    "        title=\"Product Sales in 2024\",\n",
    "        text=\"Sales\",\n",
    "        color=\"Product\"\n",
    ")"
   ]
  }
 ],
 "metadata": {
  "kernelspec": {
   "display_name": ".venv",
   "language": "python",
   "name": "python3"
  },
  "language_info": {
   "name": "python",
   "version": "3.14.0"
  }
 },
 "nbformat": 4,
 "nbformat_minor": 5
}
